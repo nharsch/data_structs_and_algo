{
 "cells": [
  {
   "cell_type": "markdown",
   "metadata": {},
   "source": [
    "###Why study Data Structures and Abstract Data Types"
   ]
  },
  {
   "cell_type": "markdown",
   "metadata": {},
   "source": [
    "Abstraction allows us to focus on big picture.\n",
    "\n",
    "**Abstract Data Type**\n",
    "\n",
    "**Information Hiding**\n",
    "\n",
    "**implementation-independent**"
   ]
  },
  {
   "cell_type": "code",
   "execution_count": 1,
   "metadata": {
    "collapsed": true
   },
   "outputs": [],
   "source": [
    "# Tuples are immutable\n",
    "my_tuple = (2, True, 5.0)"
   ]
  },
  {
   "cell_type": "code",
   "execution_count": 2,
   "metadata": {
    "collapsed": false
   },
   "outputs": [
    {
     "data": {
      "text/plain": [
       "(2, True, 5.0)"
      ]
     },
     "execution_count": 2,
     "metadata": {},
     "output_type": "execute_result"
    }
   ],
   "source": [
    "my_tuple"
   ]
  },
  {
   "cell_type": "code",
   "execution_count": 3,
   "metadata": {
    "collapsed": false
   },
   "outputs": [
    {
     "data": {
      "text/plain": [
       "2"
      ]
     },
     "execution_count": 3,
     "metadata": {},
     "output_type": "execute_result"
    }
   ],
   "source": [
    "my_tuple[0]"
   ]
  },
  {
   "cell_type": "code",
   "execution_count": 4,
   "metadata": {
    "collapsed": false
   },
   "outputs": [
    {
     "data": {
      "text/plain": [
       "(2, True, 5.0, 2, True, 5.0, 2, True, 5.0)"
      ]
     },
     "execution_count": 4,
     "metadata": {},
     "output_type": "execute_result"
    }
   ],
   "source": [
    "my_tuple * 3"
   ]
  },
  {
   "cell_type": "code",
   "execution_count": 5,
   "metadata": {
    "collapsed": false
   },
   "outputs": [
    {
     "data": {
      "text/plain": [
       "(2, True, 5.0)"
      ]
     },
     "execution_count": 5,
     "metadata": {},
     "output_type": "execute_result"
    }
   ],
   "source": [
    "my_tuple"
   ]
  },
  {
   "cell_type": "code",
   "execution_count": 6,
   "metadata": {
    "collapsed": false
   },
   "outputs": [
    {
     "ename": "TypeError",
     "evalue": "'tuple' object does not support item assignment",
     "output_type": "error",
     "traceback": [
      "\u001b[0;31m---------------------------------------------------------------------------\u001b[0m",
      "\u001b[0;31mTypeError\u001b[0m                                 Traceback (most recent call last)",
      "\u001b[0;32m<ipython-input-6-d1aa669f8559>\u001b[0m in \u001b[0;36m<module>\u001b[0;34m()\u001b[0m\n\u001b[0;32m----> 1\u001b[0;31m \u001b[0mmy_tuple\u001b[0m\u001b[0;34m[\u001b[0m\u001b[0;36m0\u001b[0m\u001b[0;34m]\u001b[0m \u001b[0;34m=\u001b[0m \u001b[0;34m\"this won't work\"\u001b[0m\u001b[0;34m\u001b[0m\u001b[0m\n\u001b[0m",
      "\u001b[0;31mTypeError\u001b[0m: 'tuple' object does not support item assignment"
     ]
    }
   ],
   "source": [
    "my_tuple[0] = \"this won't work\""
   ]
  },
  {
   "cell_type": "code",
   "execution_count": 14,
   "metadata": {
    "collapsed": false
   },
   "outputs": [
    {
     "data": {
      "text/plain": [
       "{False, 1.0, 2, 5, 'cat'}"
      ]
     },
     "execution_count": 14,
     "metadata": {},
     "output_type": "execute_result"
    }
   ],
   "source": [
    "# sets are unordered collection of hashable data objects\n",
    "# notice that floats replace like integers\n",
    "my_set = {1,1.0,2,2,5,5,\"cat\",False}\n",
    "my_set"
   ]
  },
  {
   "cell_type": "code",
   "execution_count": 16,
   "metadata": {
    "collapsed": false
   },
   "outputs": [
    {
     "data": {
      "text/plain": [
       "True"
      ]
     },
     "execution_count": 16,
     "metadata": {},
     "output_type": "execute_result"
    }
   ],
   "source": [
    "# can check if obj is in set\n",
    "1 in my_set"
   ]
  },
  {
   "cell_type": "code",
   "execution_count": 25,
   "metadata": {
    "collapsed": false
   },
   "outputs": [
    {
     "name": "stdout",
     "output_type": "stream",
     "text": [
      "set([1, 2, 3, 4])\n",
      "set([2, 3])\n",
      "set([1])\n",
      "set([4])\n"
     ]
    }
   ],
   "source": [
    "# set operations\n",
    "set1, set2 = {1,2,3},{2,3,4}\n",
    "print set1.union(set2) # all\n",
    "print set1.intersection(set2) # only in both\n",
    "print set1.difference(set2) # what's not in set\n",
    "print set2.difference(set1) # what's not in set"
   ]
  },
  {
   "cell_type": "code",
   "execution_count": 26,
   "metadata": {
    "collapsed": false
   },
   "outputs": [
    {
     "name": "stdout",
     "output_type": "stream",
     "text": [
      "set([2, 3, 4])\n",
      "set([2, 3, 4, 5])\n",
      "set([2, 3, 4])\n"
     ]
    }
   ],
   "source": [
    "# can add and remove\n",
    "print set2\n",
    "set2.add(5)\n",
    "print set2\n",
    "set2.remove(5)\n",
    "print set2"
   ]
  },
  {
   "cell_type": "markdown",
   "metadata": {},
   "source": [
    "##1.4.6 Object Oriented"
   ]
  },
  {
   "cell_type": "code",
   "execution_count": 38,
   "metadata": {
    "collapsed": false
   },
   "outputs": [
    {
     "name": "stdout",
     "output_type": "stream",
     "text": [
      "1/2\n",
      "I ate 1/2 of the pizza.\n"
     ]
    }
   ],
   "source": [
    "class Fraction:\n",
    "    \n",
    "    def __init__(self, top, bottom):\n",
    "        \n",
    "        self.num = top\n",
    "        self.den = bottom\n",
    "    \n",
    "    def __repr__(self):\n",
    "        return \"{}/{}\".format(str(self.num), str(self.den))\n",
    "    \n",
    "    def __add__(self, other_fraction):\n",
    "        \n",
    "        new_num = self.num*other_fraction.den + self.den*other_fraction.num\n",
    "        new_den = self.den * other_fraction.den\n",
    "        \n",
    "        return Fraction(new_num, new_den)\n",
    "    \n",
    "my_frac = Fraction(1,2)\n",
    "print my_frac\n",
    "print \"I ate\", my_frac, \"of the pizza.\""
   ]
  },
  {
   "cell_type": "code",
   "execution_count": 39,
   "metadata": {
    "collapsed": true
   },
   "outputs": [],
   "source": [
    "f1 = Fraction(1,4)\n",
    "f2 = Fraction(2,4)"
   ]
  },
  {
   "cell_type": "code",
   "execution_count": 40,
   "metadata": {
    "collapsed": false
   },
   "outputs": [
    {
     "data": {
      "text/plain": [
       "12/16"
      ]
     },
     "execution_count": 40,
     "metadata": {},
     "output_type": "execute_result"
    }
   ],
   "source": [
    "f1 + f2"
   ]
  },
  {
   "cell_type": "code",
   "execution_count": 44,
   "metadata": {
    "collapsed": false
   },
   "outputs": [
    {
     "name": "stdout",
     "output_type": "stream",
     "text": [
      "10\n",
      "2\n"
     ]
    }
   ],
   "source": [
    "# hmm, let's improve that fraction addition algo to reduce the fraction\n",
    "# let's use Euclid's Algorithm\n",
    "def gcd(m, n):\n",
    "    '''find the greated common divisor'''\n",
    "    while m % n != 0:\n",
    "        old_m = m\n",
    "        old_n = n\n",
    "        \n",
    "        m = old_n\n",
    "        n = old_m % old_n # new divisor is m&n\n",
    "    return n\n",
    "print(gcd(20, 10))\n",
    "print(gcd(2, 10))"
   ]
  },
  {
   "cell_type": "code",
   "execution_count": 48,
   "metadata": {
    "collapsed": false
   },
   "outputs": [
    {
     "data": {
      "text/plain": [
       "3/4"
      ]
     },
     "execution_count": 48,
     "metadata": {},
     "output_type": "execute_result"
    }
   ],
   "source": [
    "# redefine\n",
    "class Fraction:\n",
    "    \n",
    "    def __init__(self, top, bottom):\n",
    "        \n",
    "        self.num = top\n",
    "        self.den = bottom\n",
    "    \n",
    "    def __repr__(self):\n",
    "        return \"{}/{}\".format(str(self.num), str(self.den))\n",
    "    \n",
    "    def __add__(self, other_fraction):\n",
    "        \n",
    "        new_num = self.num*other_fraction.den + self.den*other_fraction.num\n",
    "        new_den = self.den * other_fraction.den\n",
    "        # find greated common divisor\n",
    "        common = gcd(new_num, new_den)\n",
    "        # reduce to gcd by integer division\n",
    "        return Fraction(new_num // common, new_den // common)\n",
    "\n",
    "# much better    \n",
    "f1 = Fraction(1,4)\n",
    "f2 = Fraction(2,4)\n",
    "f1 + f2"
   ]
  },
  {
   "cell_type": "code",
   "execution_count": null,
   "metadata": {
    "collapsed": true
   },
   "outputs": [],
   "source": []
  }
 ],
 "metadata": {
  "kernelspec": {
   "display_name": "Python 2",
   "language": "python",
   "name": "python2"
  },
  "language_info": {
   "codemirror_mode": {
    "name": "ipython",
    "version": 2
   },
   "file_extension": ".py",
   "mimetype": "text/x-python",
   "name": "python",
   "nbconvert_exporter": "python",
   "pygments_lexer": "ipython2",
   "version": "2.7.10"
  }
 },
 "nbformat": 4,
 "nbformat_minor": 0
}
